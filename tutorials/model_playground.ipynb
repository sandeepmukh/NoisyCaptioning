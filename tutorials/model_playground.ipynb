{
 "cells": [
  {
   "cell_type": "code",
   "execution_count": 1,
   "metadata": {},
   "outputs": [
    {
     "name": "stderr",
     "output_type": "stream",
     "text": [
      "/home/sandeepmukh/open_clip/.venv/lib/python3.10/site-packages/tqdm/auto.py:21: TqdmWarning: IProgress not found. Please update jupyter and ipywidgets. See https://ipywidgets.readthedocs.io/en/stable/user_install.html\n",
      "  from .autonotebook import tqdm as notebook_tqdm\n"
     ]
    }
   ],
   "source": [
    "import torch\n",
    "from PIL import Image\n",
    "import sys\n",
    "import matplotlib.pyplot as plt\n",
    "\n",
    "sys.path.append('../src')\n",
    "import open_clip\n",
    "\n",
    "%load_ext autoreload\n",
    "%autoreload 2"
   ]
  },
  {
   "cell_type": "code",
   "execution_count": 6,
   "metadata": {},
   "outputs": [
    {
     "data": {
      "text/plain": [
       "tensor([[49406,   320,  4038,   539,   830,  1579, 10047,   263,   549, 26936,\n",
       "          1067,  1397,   513,  3459,  4886,  1422,   264,  7681,   530,   518,\n",
       "          1488,  2102,   267,   736,  2102,   267,   540,  1828,   548,  4765]],\n",
       "       device='cuda:7')"
      ]
     },
     "execution_count": 6,
     "metadata": {},
     "output_type": "execute_result"
    }
   ],
   "source": [
    "device = torch.device(\"cuda:7\" if torch.cuda.is_available() else \"cpu\")\n",
    "model_path = \"/home/sandeepmukh/open_clip/src/logs/coca_coyo_baseline_4/checkpoints/epoch_100.pt\"\n",
    "model_name = \"coca_ViT-B-32\"\n",
    "\n",
    "model, _, preprocess = open_clip.create_model_and_transforms(model_name = model_name)\n",
    "sd = torch.load(model_path, map_location='cpu')['state_dict']\n",
    "sd = {k[len('module.'):]: v for k, v in sd.items()}\n",
    "model.load_state_dict(sd)\n",
    "tokenizer = open_clip.get_tokenizer(model_name)\n",
    "model.to(device)\n",
    "\n",
    "img_path = \"/home/sandeepmukh/open_clip/imagenet/validation/n01491361/ILSVRC2012_val_00003183.JPEG\"\n",
    "\n",
    "image = preprocess(Image.open(img_path)).unsqueeze(0).cuda(device=device)\n",
    "\n",
    "with torch.no_grad():\n",
    "    caption = model.generate(image)\n",
    "    \n",
    "caption"
   ]
  },
  {
   "cell_type": "code",
   "execution_count": 7,
   "metadata": {},
   "outputs": [
    {
     "data": {
      "text/plain": [
       "'<start_of_text>a pair of great white sharks ( loxodonta théodne ) swim in the open sea , red sea , chintamelle '"
      ]
     },
     "execution_count": 7,
     "metadata": {},
     "output_type": "execute_result"
    }
   ],
   "source": [
    "caption = tokenizer.decode(caption[0].cpu().numpy())\n",
    "plt.imshow(image)\n",
    "plt.title(caption)\n",
    "plt.show()"
   ]
  }
 ],
 "metadata": {
  "kernelspec": {
   "display_name": ".venv",
   "language": "python",
   "name": "python3"
  },
  "language_info": {
   "codemirror_mode": {
    "name": "ipython",
    "version": 3
   },
   "file_extension": ".py",
   "mimetype": "text/x-python",
   "name": "python",
   "nbconvert_exporter": "python",
   "pygments_lexer": "ipython3",
   "version": "3.10.12"
  }
 },
 "nbformat": 4,
 "nbformat_minor": 2
}
